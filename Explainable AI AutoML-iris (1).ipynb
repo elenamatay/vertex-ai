{
 "cells": [
  {
   "cell_type": "code",
   "execution_count": 55,
   "metadata": {
    "id": "ur8xi4C7S06n"
   },
   "outputs": [],
   "source": [
    "# Copyright 2022 Google LLC\n",
    "#\n",
    "# Licensed under the Apache License, Version 2.0 (the \"License\");\n",
    "# you may not use this file except in compliance with the License.\n",
    "# You may obtain a copy of the License at\n",
    "#\n",
    "#     https://www.apache.org/licenses/LICENSE-2.0\n",
    "#\n",
    "# Unless required by applicable law or agreed to in writing, software\n",
    "# distributed under the License is distributed on an \"AS IS\" BASIS,\n",
    "# WITHOUT WARRANTIES OR CONDITIONS OF ANY KIND, either express or implied.\n",
    "# See the License for the specific language governing permissions and\n",
    "# limitations under the License."
   ]
  },
  {
   "cell_type": "markdown",
   "metadata": {
    "id": "JAPoU8Sm5E6e",
    "tags": []
   },
   "source": [
    "# Vertex Explainable AI - Feature attributions"
   ]
  },
  {
   "cell_type": "markdown",
   "metadata": {
    "id": "24743cf4a1e1"
   },
   "source": [
    "**_NOTE_**: This notebook has been tested in the following environment:\n",
    "\n",
    "* Python version = 3.10.2"
   ]
  },
  {
   "cell_type": "markdown",
   "metadata": {
    "id": "i7EUnXsZhAGF"
   },
   "source": [
    "## Installation\n",
    "\n",
    "Install the following packages required to execute this notebook."
   ]
  },
  {
   "cell_type": "code",
   "execution_count": 56,
   "metadata": {
    "id": "2b4ef9b72d43"
   },
   "outputs": [],
   "source": [
    "! pip3 install --upgrade --q google-cloud-aiplatform==1.26 google-cloud-storage tabulate\n",
    "! pip3 install --upgrade --q tensorflow "
   ]
  },
  {
   "cell_type": "markdown",
   "metadata": {},
   "source": [
    "### Imports"
   ]
  },
  {
   "cell_type": "code",
   "execution_count": 57,
   "metadata": {},
   "outputs": [],
   "source": [
    "from google.cloud import aiplatform as vertex_ai"
   ]
  },
  {
   "cell_type": "markdown",
   "metadata": {
    "id": "WReHDGG5g0XY"
   },
   "source": [
    "## Setup"
   ]
  },
  {
   "cell_type": "code",
   "execution_count": 58,
   "metadata": {
    "id": "oM1iC_MfAts1"
   },
   "outputs": [
    {
     "name": "stdout",
     "output_type": "stream",
     "text": [
      "Updated property [core/project].\n"
     ]
    }
   ],
   "source": [
    "PROJECT_ID = \"my_project\"  # @param {type:\"string\"}\n",
    "\n",
    "# Set the project id\n",
    "! gcloud config set project {PROJECT_ID}"
   ]
  },
  {
   "cell_type": "markdown",
   "metadata": {
    "id": "region"
   },
   "source": [
    "#### Region\n",
    "\n",
    "You can also change the `REGION` variable used by Vertex AI. Learn more about [Vertex AI regions](https://cloud.google.com/vertex-ai/docs/general/locations)."
   ]
  },
  {
   "cell_type": "code",
   "execution_count": 59,
   "metadata": {
    "id": "jWz5v12n3jb3"
   },
   "outputs": [],
   "source": [
    "REGION = \"europe-west4\"  # @param {type: \"string\"}"
   ]
  },
  {
   "cell_type": "markdown",
   "metadata": {},
   "source": [
    "## Run AutoML training pipeline\n",
    "\n",
    "Next, you run the DAG to start the training job by invoking the method `run`, with the following parameters:\n",
    "\n",
    "- `dataset`: The `Dataset` resource to train the model.\n",
    "- `model_display_name`: The human readable name for the trained model.\n",
    "- `training_fraction_split`: The percentage of the dataset to use for training.\n",
    "- `test_fraction_split`: The percentage of the dataset to use for test (holdout data).\n",
    "- `validation_fraction_split`: The percentage of the dataset to use for validation.\n",
    "- `target_column`: The name of the column to train as the label.\n",
    "- `budget_milli_node_hours`: (optional) Maximum training time specified in unit of millihours (1000 = hour).\n",
    "- `disable_early_stopping`: If `True`, training maybe completed before using the entire budget if the service believes it cannot further improve on the model objective measurements.\n",
    "\n",
    "The `run` method when completed returns the `Model` resource.\n",
    "\n",
    "The execution of the training pipeline will take upto 20 minutes."
   ]
  },
  {
   "cell_type": "code",
   "execution_count": 60,
   "metadata": {},
   "outputs": [],
   "source": [
    "# model = dag.run(\n",
    "#    dataset=dataset,\n",
    "#    model_display_name=\"iris\",\n",
    "#    training_fraction_split=0.6,\n",
    "#    validation_fraction_split=0.2,\n",
    "#    test_fraction_split=0.2,\n",
    "#    budget_milli_node_hours=8000,\n",
    "#    disable_early_stopping=False,\n",
    "#    target_column=label_column,\n",
    "#)"
   ]
  },
  {
   "cell_type": "markdown",
   "metadata": {},
   "source": [
    "**I've already run the training, so I'll just create a model object with the trained model:**"
   ]
  },
  {
   "cell_type": "code",
   "execution_count": 61,
   "metadata": {},
   "outputs": [],
   "source": [
    "MODEL_ID = '4895582119742406656'\n",
    "model = vertex_ai.Model(model_name=MODEL_ID)\n"
   ]
  },
  {
   "cell_type": "markdown",
   "metadata": {},
   "source": [
    "## Deploy the model\n",
    "\n",
    "Next, deploy your model for online prediction. To deploy the model, you invoke the `deploy` method, with the following parameters:\n",
    "\n",
    "- `machine_type`: The type of compute machine.\n",
    "\n",
    "This can take up to 20 minutes."
   ]
  },
  {
   "cell_type": "code",
   "execution_count": 62,
   "metadata": {},
   "outputs": [],
   "source": [
    "# endpoint = model.deploy(machine_type=\"n1-standard-4\")"
   ]
  },
  {
   "cell_type": "markdown",
   "metadata": {},
   "source": [
    "**I've already deployed the model for online predictions, so I'll just create an endpoint object with the deployed endpoint:**"
   ]
  },
  {
   "cell_type": "code",
   "execution_count": 63,
   "metadata": {},
   "outputs": [],
   "source": [
    "ENDPOINT_ID = '4230951530007625728'\n",
    "endpoint = vertex_ai.Endpoint(endpoint_name=ENDPOINT_ID)"
   ]
  },
  {
   "cell_type": "markdown",
   "metadata": {},
   "source": [
    "## Send a online prediction request with explainability\n",
    "\n",
    "Send a online prediction with explainability to your deployed model. In this method, the predicted response will include an explanation on how the features contributed to the explanation.\n",
    "\n",
    "### Make test item\n",
    "\n",
    "You will use synthetic data as a test data item. Don't be concerned that we are using synthetic data -- we just want to demonstrate how to make a prediction."
   ]
  },
  {
   "cell_type": "code",
   "execution_count": 64,
   "metadata": {},
   "outputs": [],
   "source": [
    "INSTANCE = {\n",
    "    \"double_field_0\": 1.4, # petal_length\n",
    "    \"double_field_1\": 1.3, # petal_width\n",
    "    \"double_field_2\": 5.1, # sepal_length\n",
    "    \"double_field_3\": 2.8, # sepal_width\n",
    "}"
   ]
  },
  {
   "cell_type": "markdown",
   "metadata": {},
   "source": [
    "### Make the prediction with explanation\n",
    "\n",
    "Now that your `Model` resource is deployed to an `Endpoint` resource, one can do online explanations by sending prediction requests to the `Endpoint` resource.\n",
    "\n",
    "#### Request\n",
    "\n",
    "The format of each instance is:\n",
    "\n",
    "    [feature_list]\n",
    "\n",
    "Since the explain() method can take multiple items (instances), send your single test item as a list of one test item.\n",
    "\n",
    "#### Response\n",
    "\n",
    "The response from the explain() call is a Python dictionary with the following entries:\n",
    "\n",
    "- `ids`: The internal assigned unique identifiers for each prediction request.\n",
    "- `displayNames`: The class names for each class label.\n",
    "- `confidences`: For classification, the predicted confidence, between 0 and 1, per class label.\n",
    "- `values`: For regression, the predicted value.\n",
    "- `deployed_model_id`: The Vertex AI identifier for the deployed `Model` resource which did the predictions.\n",
    "- `explanations`: The feature attributions"
   ]
  },
  {
   "cell_type": "code",
   "execution_count": 65,
   "metadata": {},
   "outputs": [
    {
     "name": "stdout",
     "output_type": "stream",
     "text": [
      "Prediction(predictions=[{'classes': ['1', '2', '0'], 'scores': [0.3133177161216736, 0.3430679142475128, 0.3436143398284912]}], deployed_model_id='5154248827246477312', model_version_id=None, model_resource_name=None, explanations=[attributions {\n",
      "  baseline_output_value: 0.3388684093952179\n",
      "  instance_output_value: 0.3436143398284912\n",
      "  feature_attributions {\n",
      "    struct_value {\n",
      "      fields {\n",
      "        key: \"double_field_0\"\n",
      "        value {\n",
      "          number_value: 0.003399355337023735\n",
      "        }\n",
      "      }\n",
      "      fields {\n",
      "        key: \"double_field_1\"\n",
      "        value {\n",
      "          number_value: 0.002479728311300278\n",
      "        }\n",
      "      }\n",
      "      fields {\n",
      "        key: \"double_field_2\"\n",
      "        value {\n",
      "          number_value: 0.001412386074662209\n",
      "        }\n",
      "      }\n",
      "      fields {\n",
      "        key: \"double_field_3\"\n",
      "        value {\n",
      "          number_value: -0.002545539289712906\n",
      "        }\n",
      "      }\n",
      "    }\n",
      "  }\n",
      "  output_index: 2\n",
      "  output_display_name: \"0\"\n",
      "  approximation_error: 0.003513674562531533\n",
      "  output_name: \"scores\"\n",
      "}\n",
      "])\n"
     ]
    }
   ],
   "source": [
    "instances_list = [INSTANCE]\n",
    "\n",
    "prediction = endpoint.explain(instances_list)\n",
    "print(prediction)"
   ]
  },
  {
   "cell_type": "markdown",
   "metadata": {},
   "source": [
    "### Understanding the explanations response\n",
    "\n",
    "First, you will look what your model predicted and compare it to the actual value."
   ]
  },
  {
   "cell_type": "code",
   "execution_count": 66,
   "metadata": {},
   "outputs": [
    {
     "name": "stdout",
     "output_type": "stream",
     "text": [
      "Predicted Value: 0 0.3436143398284912\n"
     ]
    }
   ],
   "source": [
    "import numpy as np\n",
    "\n",
    "try:\n",
    "    label = np.argmax(prediction[0][0][\"scores\"])\n",
    "    cls = prediction[0][0][\"classes\"][label]\n",
    "    print(\"Predicted Value:\", cls, prediction[0][0][\"scores\"][label])\n",
    "except:\n",
    "    pass"
   ]
  },
  {
   "cell_type": "markdown",
   "metadata": {},
   "source": [
    "### Examine feature attributions\n",
    "\n",
    "Next you will look at the feature attributions for this particular example. Positive attribution values mean a particular feature pushed your model prediction up by that amount, and vice versa for negative attribution values."
   ]
  },
  {
   "cell_type": "code",
   "execution_count": 67,
   "metadata": {},
   "outputs": [
    {
     "name": "stdout",
     "output_type": "stream",
     "text": [
      "Feature name      Feature value    Attribution value\n",
      "--------------  ---------------  -------------------\n",
      "double_field_0              1.4           0.00339936\n",
      "double_field_1              1.3           0.00247973\n",
      "double_field_2              5.1           0.00141239\n",
      "double_field_3              2.8          -0.00254554\n"
     ]
    }
   ],
   "source": [
    "from tabulate import tabulate\n",
    "\n",
    "feature_names = [\"double_field_0\", \"double_field_1\", \"double_field_2\", \"double_field_3\"] # [\"petal_length\", \"petal_width\", \"sepal_length\", \"sepal_width\"]\n",
    "attributions = prediction.explanations[0].attributions[0].feature_attributions\n",
    "\n",
    "rows = []\n",
    "for i, val in enumerate(feature_names):\n",
    "    rows.append([val, INSTANCE[val], attributions[val]])\n",
    "print(tabulate(rows, headers=[\"Feature name\", \"Feature value\", \"Attribution value\"]))"
   ]
  },
  {
   "cell_type": "markdown",
   "metadata": {},
   "source": [
    "### Check your explanations and baselines\n",
    "\n",
    "To better make sense of the feature attributions you're getting, you should compare them with your model's baseline. In most cases, the sum of your attribution values + the baseline should be very close to your model's predicted value for each input. Also note that for regression models, the `baseline_score` returned from AI Explanations will be the same for each example sent to your model. For classification models, each class will have its own baseline.\n",
    "\n",
    "In this section you'll send 10 test examples to your model for prediction in order to compare the feature attributions with the baseline. Then you'll run each test example's attributions through a sanity check in the `sanity_check_explanations` method.\n",
    "\n",
    "#### Get explanations"
   ]
  },
  {
   "cell_type": "code",
   "execution_count": 69,
   "metadata": {},
   "outputs": [
    {
     "data": {
      "text/plain": [
       "Prediction(predictions=[{'scores': [0.3109892904758453, 0.3446283340454102, 0.3443824052810669], 'classes': ['1', '2', '0']}, {'classes': ['1', '2', '0'], 'scores': [0.3086515665054321, 0.3263656198978424, 0.3649827837944031]}, {'scores': [0.3233571648597717, 0.3353742957115173, 0.3412684798240662], 'classes': ['1', '2', '0']}, {'scores': [0.3126264214515686, 0.3446370661258698, 0.342736542224884], 'classes': ['1', '2', '0']}, {'scores': [0.3224583864212036, 0.3354324996471405, 0.3421091139316559], 'classes': ['1', '2', '0']}, {'scores': [0.3053627610206604, 0.3286619186401367, 0.3659752905368805], 'classes': ['1', '2', '0']}, {'classes': ['1', '2', '0'], 'scores': [0.3120300769805908, 0.3248915374279022, 0.3630782961845398]}, {'scores': [0.3227210938930511, 0.3380762934684753, 0.3392026126384735], 'classes': ['1', '2', '0']}, {'scores': [0.3066827952861786, 0.3246940076351166, 0.3686231076717377], 'classes': ['1', '2', '0']}, {'scores': [0.3037001490592957, 0.3267928659915924, 0.3695068955421448], 'classes': ['1', '2', '0']}], deployed_model_id='5154248827246477312', model_version_id=None, model_resource_name=None, explanations=[attributions {\n",
       "  baseline_output_value: 0.3310493528842926\n",
       "  instance_output_value: 0.34462833404541016\n",
       "  feature_attributions {\n",
       "    struct_value {\n",
       "      fields {\n",
       "        key: \"double_field_0\"\n",
       "        value {\n",
       "          number_value: 0.01281377114355564\n",
       "        }\n",
       "      }\n",
       "      fields {\n",
       "        key: \"double_field_1\"\n",
       "        value {\n",
       "          number_value: 0.005050985142588615\n",
       "        }\n",
       "      }\n",
       "      fields {\n",
       "        key: \"double_field_2\"\n",
       "        value {\n",
       "          number_value: -0.001206325367093086\n",
       "        }\n",
       "      }\n",
       "      fields {\n",
       "        key: \"double_field_3\"\n",
       "        value {\n",
       "          number_value: -0.003079449757933617\n",
       "        }\n",
       "      }\n",
       "    }\n",
       "  }\n",
       "  output_index: 1\n",
       "  output_display_name: \"2\"\n",
       "  approximation_error: 0.004350303191365939\n",
       "  output_name: \"scores\"\n",
       "}\n",
       ", attributions {\n",
       "  baseline_output_value: 0.3388684093952179\n",
       "  instance_output_value: 0.36498281359672546\n",
       "  feature_attributions {\n",
       "    struct_value {\n",
       "      fields {\n",
       "        key: \"double_field_0\"\n",
       "        value {\n",
       "          number_value: 0.003166491165757179\n",
       "        }\n",
       "      }\n",
       "      fields {\n",
       "        key: \"double_field_1\"\n",
       "        value {\n",
       "          number_value: 0.001273682340979576\n",
       "        }\n",
       "      }\n",
       "      fields {\n",
       "        key: \"double_field_2\"\n",
       "        value {\n",
       "          number_value: -0.0001052133738994598\n",
       "        }\n",
       "      }\n",
       "      fields {\n",
       "        key: \"double_field_3\"\n",
       "        value {\n",
       "          number_value: 0.02177944406867027\n",
       "        }\n",
       "      }\n",
       "    }\n",
       "  }\n",
       "  output_index: 2\n",
       "  output_display_name: \"0\"\n",
       "  approximation_error: 0.0011642023463223677\n",
       "  output_name: \"scores\"\n",
       "}\n",
       ", attributions {\n",
       "  baseline_output_value: 0.3388684093952179\n",
       "  instance_output_value: 0.34126853942871094\n",
       "  feature_attributions {\n",
       "    struct_value {\n",
       "      fields {\n",
       "        key: \"double_field_0\"\n",
       "        value {\n",
       "          number_value: 0.0009697824716567993\n",
       "        }\n",
       "      }\n",
       "      fields {\n",
       "        key: \"double_field_1\"\n",
       "        value {\n",
       "          number_value: 0.0009636953473091125\n",
       "        }\n",
       "      }\n",
       "      fields {\n",
       "        key: \"double_field_2\"\n",
       "        value {\n",
       "          number_value: 0.0005534235388040543\n",
       "        }\n",
       "      }\n",
       "      fields {\n",
       "        key: \"double_field_3\"\n",
       "        value {\n",
       "          number_value: -8.677132427692413e-05\n",
       "        }\n",
       "      }\n",
       "    }\n",
       "  }\n",
       "  output_index: 2\n",
       "  output_display_name: \"0\"\n",
       "  approximation_error: 0.007521410792677776\n",
       "  output_name: \"scores\"\n",
       "}\n",
       ", attributions {\n",
       "  baseline_output_value: 0.3310493528842926\n",
       "  instance_output_value: 0.3446369767189026\n",
       "  feature_attributions {\n",
       "    struct_value {\n",
       "      fields {\n",
       "        key: \"double_field_0\"\n",
       "        value {\n",
       "          number_value: 0.01204931363463402\n",
       "        }\n",
       "      }\n",
       "      fields {\n",
       "        key: \"double_field_1\"\n",
       "        value {\n",
       "          number_value: 0.004874886944890022\n",
       "        }\n",
       "      }\n",
       "      fields {\n",
       "        key: \"double_field_2\"\n",
       "        value {\n",
       "          number_value: -0.0007419120520353317\n",
       "        }\n",
       "      }\n",
       "      fields {\n",
       "        key: \"double_field_3\"\n",
       "        value {\n",
       "          number_value: -0.002594664692878723\n",
       "        }\n",
       "      }\n",
       "    }\n",
       "  }\n",
       "  output_index: 1\n",
       "  output_display_name: \"2\"\n",
       "  approximation_error: 0.00433128063769737\n",
       "  output_name: \"scores\"\n",
       "}\n",
       ", attributions {\n",
       "  baseline_output_value: 0.3388684093952179\n",
       "  instance_output_value: 0.34210914373397827\n",
       "  feature_attributions {\n",
       "    struct_value {\n",
       "      fields {\n",
       "        key: \"double_field_0\"\n",
       "        value {\n",
       "          number_value: 0.001375263556838036\n",
       "        }\n",
       "      }\n",
       "      fields {\n",
       "        key: \"double_field_1\"\n",
       "        value {\n",
       "          number_value: 0.001398758962750435\n",
       "        }\n",
       "      }\n",
       "      fields {\n",
       "        key: \"double_field_2\"\n",
       "        value {\n",
       "          number_value: 0.001349525526165962\n",
       "        }\n",
       "      }\n",
       "      fields {\n",
       "        key: \"double_field_3\"\n",
       "        value {\n",
       "          number_value: -0.0008828137069940567\n",
       "        }\n",
       "      }\n",
       "    }\n",
       "  }\n",
       "  output_index: 2\n",
       "  output_display_name: \"0\"\n",
       "  approximation_error: 0.004234363794155236\n",
       "  output_name: \"scores\"\n",
       "}\n",
       ", attributions {\n",
       "  baseline_output_value: 0.3388684093952179\n",
       "  instance_output_value: 0.3659752905368805\n",
       "  feature_attributions {\n",
       "    struct_value {\n",
       "      fields {\n",
       "        key: \"double_field_0\"\n",
       "        value {\n",
       "          number_value: 0.0032779760658741\n",
       "        }\n",
       "      }\n",
       "      fields {\n",
       "        key: \"double_field_1\"\n",
       "        value {\n",
       "          number_value: 0.001673383638262749\n",
       "        }\n",
       "      }\n",
       "      fields {\n",
       "        key: \"double_field_2\"\n",
       "        value {\n",
       "          number_value: 0.0007201302796602249\n",
       "        }\n",
       "      }\n",
       "      fields {\n",
       "        key: \"double_field_3\"\n",
       "        value {\n",
       "          number_value: 0.02143539115786552\n",
       "        }\n",
       "      }\n",
       "    }\n",
       "  }\n",
       "  output_index: 2\n",
       "  output_display_name: \"0\"\n",
       "  approximation_error: 0.0015079133572356725\n",
       "  output_name: \"scores\"\n",
       "}\n",
       ", attributions {\n",
       "  baseline_output_value: 0.3388684093952179\n",
       "  instance_output_value: 0.3630782961845398\n",
       "  feature_attributions {\n",
       "    struct_value {\n",
       "      fields {\n",
       "        key: \"double_field_0\"\n",
       "        value {\n",
       "          number_value: 0.001193838194012642\n",
       "        }\n",
       "      }\n",
       "      fields {\n",
       "        key: \"double_field_1\"\n",
       "        value {\n",
       "          number_value: 0.0008567944169044495\n",
       "        }\n",
       "      }\n",
       "      fields {\n",
       "        key: \"double_field_2\"\n",
       "        value {\n",
       "          number_value: 0.0006235651671886444\n",
       "        }\n",
       "      }\n",
       "      fields {\n",
       "        key: \"double_field_3\"\n",
       "        value {\n",
       "          number_value: 0.02153568901121616\n",
       "        }\n",
       "      }\n",
       "    }\n",
       "  }\n",
       "  output_index: 2\n",
       "  output_display_name: \"0\"\n",
       "  approximation_error: 0.0012490111782236936\n",
       "  output_name: \"scores\"\n",
       "}\n",
       ", attributions {\n",
       "  baseline_output_value: 0.3388684093952179\n",
       "  instance_output_value: 0.3392026424407959\n",
       "  feature_attributions {\n",
       "    struct_value {\n",
       "      fields {\n",
       "        key: \"double_field_0\"\n",
       "        value {\n",
       "          number_value: 0.002419458702206612\n",
       "        }\n",
       "      }\n",
       "      fields {\n",
       "        key: \"double_field_1\"\n",
       "        value {\n",
       "          number_value: 0.0009272787719964981\n",
       "        }\n",
       "      }\n",
       "      fields {\n",
       "        key: \"double_field_2\"\n",
       "        value {\n",
       "          number_value: -0.0002716463059186935\n",
       "        }\n",
       "      }\n",
       "      fields {\n",
       "        key: \"double_field_3\"\n",
       "        value {\n",
       "          number_value: -0.002740858122706413\n",
       "        }\n",
       "      }\n",
       "    }\n",
       "  }\n",
       "  output_index: 2\n",
       "  output_display_name: \"0\"\n",
       "  approximation_error: 0.00282764409161599\n",
       "  output_name: \"scores\"\n",
       "}\n",
       ", attributions {\n",
       "  baseline_output_value: 0.3388684093952179\n",
       "  instance_output_value: 0.3686230778694153\n",
       "  feature_attributions {\n",
       "    struct_value {\n",
       "      fields {\n",
       "        key: \"double_field_0\"\n",
       "        value {\n",
       "          number_value: 0.002695184201002121\n",
       "        }\n",
       "      }\n",
       "      fields {\n",
       "        key: \"double_field_1\"\n",
       "        value {\n",
       "          number_value: 0.002025555819272995\n",
       "        }\n",
       "      }\n",
       "      fields {\n",
       "        key: \"double_field_2\"\n",
       "        value {\n",
       "          number_value: 0.001630360260605812\n",
       "        }\n",
       "      }\n",
       "      fields {\n",
       "        key: \"double_field_3\"\n",
       "        value {\n",
       "          number_value: 0.02340356819331646\n",
       "        }\n",
       "      }\n",
       "    }\n",
       "  }\n",
       "  output_index: 2\n",
       "  output_display_name: \"0\"\n",
       "  approximation_error: 0.0012361388648086172\n",
       "  output_name: \"scores\"\n",
       "}\n",
       ", attributions {\n",
       "  baseline_output_value: 0.3388684093952179\n",
       "  instance_output_value: 0.3695068955421448\n",
       "  feature_attributions {\n",
       "    struct_value {\n",
       "      fields {\n",
       "        key: \"double_field_0\"\n",
       "        value {\n",
       "          number_value: 0.002405822277069092\n",
       "        }\n",
       "      }\n",
       "      fields {\n",
       "        key: \"double_field_1\"\n",
       "        value {\n",
       "          number_value: 0.002560729160904884\n",
       "        }\n",
       "      }\n",
       "      fields {\n",
       "        key: \"double_field_2\"\n",
       "        value {\n",
       "          number_value: 0.002338094636797905\n",
       "        }\n",
       "      }\n",
       "      fields {\n",
       "        key: \"double_field_3\"\n",
       "        value {\n",
       "          number_value: 0.023333840072155\n",
       "        }\n",
       "      }\n",
       "    }\n",
       "  }\n",
       "  output_index: 2\n",
       "  output_display_name: \"0\"\n",
       "  approximation_error: 0.0015049229278831114\n",
       "  output_name: \"scores\"\n",
       "}\n",
       "])"
      ]
     },
     "execution_count": 69,
     "metadata": {},
     "output_type": "execute_result"
    }
   ],
   "source": [
    "import random\n",
    "\n",
    "# Prepare 10 test examples to your model for prediction using a random distribution to generate\n",
    "# test instances\n",
    "instances = []\n",
    "for i in range(10):\n",
    "    pl = random.uniform(1.0, 2.0)  # petal_length\n",
    "    pw = random.uniform(1.0, 2.0)  # petal_width\n",
    "    sl = random.uniform(4.0, 6.0)  # sepal_length\n",
    "    sw = random.uniform(2.0, 4.0)  # sepal_width\n",
    "\n",
    "    instances.append(\n",
    "        {\"double_field_0\": pl, \"double_field_1\": pw, \"double_field_2\": sl, \"double_field_3\": sw}\n",
    "    )\n",
    "\n",
    "response = endpoint.explain(instances)\n",
    "\n",
    "response"
   ]
  },
  {
   "cell_type": "markdown",
   "metadata": {},
   "source": [
    "#### Sanity check\n",
    "\n",
    "In the function below you perform a sanity check on the explanations."
   ]
  },
  {
   "cell_type": "code",
   "execution_count": 70,
   "metadata": {},
   "outputs": [
    {
     "name": "stdout",
     "output_type": "stream",
     "text": [
      "baseline: 0.3310493528842926\n",
      "Warning: example score and baseline score are too close.\n",
      "You might not get attributions.\n",
      "0  out of  1  sanity checks passed.\n",
      "baseline: 0.3388684093952179\n",
      "Warning: example score and baseline score are too close.\n",
      "You might not get attributions.\n",
      "0  out of  1  sanity checks passed.\n",
      "baseline: 0.3388684093952179\n",
      "Warning: example score and baseline score are too close.\n",
      "You might not get attributions.\n",
      "0  out of  1  sanity checks passed.\n",
      "baseline: 0.3310493528842926\n",
      "Warning: example score and baseline score are too close.\n",
      "You might not get attributions.\n",
      "0  out of  1  sanity checks passed.\n",
      "baseline: 0.3388684093952179\n",
      "Warning: example score and baseline score are too close.\n",
      "You might not get attributions.\n",
      "0  out of  1  sanity checks passed.\n",
      "baseline: 0.3388684093952179\n",
      "Warning: example score and baseline score are too close.\n",
      "You might not get attributions.\n",
      "0  out of  1  sanity checks passed.\n",
      "baseline: 0.3388684093952179\n",
      "Warning: example score and baseline score are too close.\n",
      "You might not get attributions.\n",
      "0  out of  1  sanity checks passed.\n",
      "baseline: 0.3388684093952179\n",
      "Warning: example score and baseline score are too close.\n",
      "You might not get attributions.\n",
      "0  out of  1  sanity checks passed.\n",
      "baseline: 0.3388684093952179\n",
      "Warning: example score and baseline score are too close.\n",
      "You might not get attributions.\n",
      "0  out of  1  sanity checks passed.\n",
      "baseline: 0.3388684093952179\n",
      "Warning: example score and baseline score are too close.\n",
      "You might not get attributions.\n",
      "0  out of  1  sanity checks passed.\n"
     ]
    }
   ],
   "source": [
    "import numpy as np\n",
    "\n",
    "\n",
    "def sanity_check_explanations(\n",
    "    explanation, prediction, mean_tgt_value=None, variance_tgt_value=None\n",
    "):\n",
    "    passed_test = 0\n",
    "    total_test = 1\n",
    "    # `attributions` is a dict where keys are the feature names\n",
    "    # and values are the feature attributions for each feature\n",
    "    baseline_score = explanation.attributions[0].baseline_output_value\n",
    "    print(\"baseline:\", baseline_score)\n",
    "\n",
    "    # Sanity check 1\n",
    "    # The prediction at the input is equal to that at the baseline.\n",
    "    #  Please use a different baseline. Some suggestions are: random input, training set mean.\n",
    "    if abs(prediction - baseline_score) <= 0.05:\n",
    "        print(\"Warning: example score and baseline score are too close.\")\n",
    "        print(\"You might not get attributions.\")\n",
    "    else:\n",
    "        passed_test += 1\n",
    "        print(\"Sanity Check 1: Passed\")\n",
    "\n",
    "    print(passed_test, \" out of \", total_test, \" sanity checks passed.\")\n",
    "\n",
    "\n",
    "i = 0\n",
    "for explanation in response.explanations:\n",
    "    try:\n",
    "        prediction = np.max(response.predictions[i][\"scores\"])\n",
    "    except TypeError:\n",
    "        prediction = np.max(response.predictions[i])\n",
    "    sanity_check_explanations(explanation, prediction)\n",
    "    i += 1"
   ]
  }
 ],
 "metadata": {
  "colab": {
   "provenance": []
  },
  "environment": {
   "kernel": "conda-root-py",
   "name": "workbench-notebooks.m106",
   "type": "gcloud",
   "uri": "gcr.io/deeplearning-platform-release/workbench-notebooks:m106"
  },
  "kernelspec": {
   "display_name": "Python 3",
   "language": "python",
   "name": "conda-root-py"
  },
  "language_info": {
   "codemirror_mode": {
    "name": "ipython",
    "version": 3
   },
   "file_extension": ".py",
   "mimetype": "text/x-python",
   "name": "python",
   "nbconvert_exporter": "python",
   "pygments_lexer": "ipython3",
   "version": "3.10.10"
  }
 },
 "nbformat": 4,
 "nbformat_minor": 4
}
